{
 "cells": [
  {
   "cell_type": "markdown",
   "metadata": {},
   "source": [
    "# <center>Méthode Monte Carlo de détermination d'une incertitude-type</center>\n",
    "\n",
    "<div class=\"alert alert-info\" role=\"alert\">\n",
    "Un notebook Jupyter est composé de deux types de cellules :<br>\n",
    "<ul><li> des cellules contenant du <b>texte</b> qu'il est nécessaire <b>de lire pour suivre correctement les consignes</b> ;</li><br>\n",
    "<li>des cellules contenant du <b>code Python</b> qu'il est nécessaire <b>d'éxécuter dans l'ordre d'apparition</b>.</li></ul><br>\n",
    "<br>\n",
    "<b>Pour exécuter une cellule sélectionnée</b> (encadrée en vert), il faut cliquer :<br>\n",
    "<ul><li>sur le bouton \"Exécuter\" situé à côté de la cellule<br><img src=\"Jupyter_Executer.bis.jpg\"></li><br>\n",
    "<li>ou sur le bouton \"Exécuter\" dans le bandeau supérieur.\n",
    "<br>\n",
    "<center><img src=\"Jupyter_Executer.jpg\"></center><br></li></ul>\n",
    "</div>\n",
    "<div class=\"alert alert-warning\">\n",
    "<b>Travail à faire : </b> Exécuter cette ligne de code en suivant les indications ci-dessus. Du texte est affecté à la variable \"a\".\n",
    "</div>"
   ]
  },
  {
   "cell_type": "code",
   "execution_count": null,
   "metadata": {},
   "outputs": [],
   "source": [
    "a=\"Hello World\""
   ]
  },
  {
   "cell_type": "markdown",
   "metadata": {},
   "source": [
    "<div class=\"alert alert-info\" role=\"alert\">\n",
    "Sur la gauche d'une cellule contenant du code Python, il y a l'indication <b>Entrée [&#160;&#160;]</b><br>\n",
    "<ul><li><b>Entrée [&#160;&#160;]</b> signifie que la cellule n'a pas été exécutée ;</li><br>\n",
    "<li><b>Entrée [*]</b> signifie que la cellule est en cours d'exécution. Soit il faut une action de votre part (saisie d'une valeur dans un <b>Input</b>, soit il faut donc patienter quelques secondes pour que tout le code s'exécute ;</li><br>\n",
    "<li><b>Entrée [1]</b> signifie que la cellule a été exécutée au rang 1.</li></ul><br>\n",
    "<br>\n",
    "</div>\n",
    "<div class=\"alert alert-warning\">\n",
    "<b>Travail à faire : </b> Exécuter cette ligne de code qui permet d'afficher la valeur de la variable \"a\".\n",
    "</div>"
   ]
  },
  {
   "cell_type": "code",
   "execution_count": null,
   "metadata": {},
   "outputs": [],
   "source": [
    "print(a)"
   ]
  },
  {
   "cell_type": "markdown",
   "metadata": {},
   "source": [
    "<div class=\"alert alert-success\" role=\"alert\">\n",
    "<details>\n",
    "<summary><b>A LIRE SI VOUS ÊTES EN LIGNE (en cliquant ici ou sur la flèche à gauche)</b>: Explications pour sauvegarder vos modifications au fur et à mesure.</summary>\n",
    "<p>En cas d'inactivité prolongé (entre 5 et 10 min), le notebook Jupyter sera déconnecté.<br>\n",
    "<img src=\"Jupyter_deconnected.jpg\"><br>\n",
    "Pour éviter de perdre vos modifications de code, enregistrez régulièrement votre notebook dans votre navigateur.<br>\n",
    "<img src=\"Jupyter_save.jpg\"><br>\n",
    "Le message suivant s'affiche :\n",
    "<img src=\"Jupyter_save_2.jpg\"><br>\n",
    "En cas de déconnexion, vous devez réouvrir votre notebook puis vous pouvez charger votre sauvegarde.<br>\n",
    "<img src=\"Jupyter_open.jpg\"><br>\n",
    "Le message suivant s'affiche et vous devez cliquer sur \"OK\" :\n",
    "<img src=\"Jupyter_open_2.jpg\"><br>\n",
    "Vous devez exécuter toutes les cellules modifiées depuis le début. Pour le faire rapidement, il faut cliquer sur \"Restart & Run all\" dans le menu Kernel.<br>\n",
    "<img src=\"Jupyter_restart.jpg\"><br></p>\n",
    "Le message suivant s'affiche et vous devez cliquer sur \"Restart & Run All Cells\" :\n",
    "<img src=\"Jupyter_restart_2.jpg\"><br>\n",
    "</details>\n",
    "</div>\n",
    "\n",
    "<div class=\"alert alert-danger\" role=\"alert\">\n",
    "<center><font size=\"5\">Ne modifier que la partie du code contenant ---A COMPLETER---</font></center>\n",
    "</div>"
   ]
  },
  {
   "cell_type": "markdown",
   "metadata": {},
   "source": [
    "## **L'objectif de cette activité est de déterminer l'incertitude-type associée à la concentration d'une espèce titrée en utilisant une simulation de n titrages à l'aide d'un code python**"
   ]
  },
  {
   "cell_type": "markdown",
   "metadata": {},
   "source": [
    "La méthode, appelée méthode de Monte carlo, nous permet de simuler un processus aléatoire pour déterminer la valeur d'une grandeur avec une incertitude-type. Nous allons appliquer cette méthode sur un titrage.\n",
    "\n",
    "On titre par suivi colorimètrique une solution aqueuse d'acide chlorhydrique par une solution aqueuse d'hydroxyde de sodium.<br><br>\n",
    "**Données :** \n",
    "\n",
    "* ${ c }_{ b }=100,0 \\ mmol/L$  à 0,5% près soit $u({ c }_{ b })=0,5 \\ mmol/L$ \n",
    "\n",
    "* ${ V }_{ a }=10,00 \\ mL$  avec $u({ V }_{ a })=0,02 \\ mL$ \n",
    "\n",
    "\n",
    "<img src=\"titrage.jpg\" alt=\"photo\" width=\"30%\"/> \n",
    "\n",
    "L'équation de la réaction de titrage acide-base est :\n",
    "\n",
    "<center> $H_{3}O^{+}(aq)\\space +\\space HO^{-}(aq)\\space \\rightarrow \\space 2\\space  H_{ 2 }O(l)$</center>\n",
    "\n",
    "L'équivalence est déterminée par le changement de couleur lié à la présence de l'indicateur coloré <i>(l'équivalence est atteinte lors du passage du jaune pâle au bleu clair, soit une teinte sensible vert clair qui est difficile à déterminer précisément)</i>.\n",
    "On mesure : \n",
    "* ${ V }_{ E }=16,7 \\ mL$  avec $u({ V }_{ E })=0,5 \\ mL$ \n",
    "\n",
    "A l'équivalence, on a : ${ c }_{ a }=\\frac { { c }_{ b }\\times { V }_{ E } }{ { V }_{ a } } $     \n",
    "\n",
    "On peut donc calculer la valeur de $c_a$ pour cette <u>mesure unique</u> : ${ c }_{ a }=0,167 \\ mol/L$\n"
   ]
  },
  {
   "cell_type": "markdown",
   "metadata": {},
   "source": [
    "<div class=\"alert alert-warning\" role=\"alert\">\n",
    "<b>Travail à faire : </b>  Compléter le code ci-dessous pour faire afficher les valeurs des incertitudes-types associées à chaque grandeur.\n",
    "<br>\n",
    "    <br>\n",
    "<details>\n",
    "<summary>Aide 1</summary>\n",
    "<p>Va[0] est le 1er élément de la liste  </p>\n",
    "</details>\n",
    "    <br>\n",
    "<details>\n",
    "<summary>Aide 2</summary>\n",
    "<p>L'incertitude de chaque grandeur correspond au 2ème élément de la liste</p>\n",
    "</details>\n",
    "<br>\n",
    "</div>    "
   ]
  },
  {
   "cell_type": "code",
   "execution_count": null,
   "metadata": {},
   "outputs": [],
   "source": [
    "#Pour chaque grandeur on définit une liste : le 1er élément est sa valeur et le 2ème élément est son incertitude\n",
    "cb=[0.1000,0.0005]     # Valeur de la concentration cb ,incertitude de la concentration cb\n",
    "Va=[10.00e-3,0.02e-3]  # Valeur du volume Va ,incertitude du volume Va\n",
    "VE=[16.7e-3,0.5e-3]    # Valeur du volume VE ,incertitude du volume VE\n",
    "\n",
    "print (---A compléter---)  # Affichage des 3 incertitudes-types"
   ]
  },
  {
   "cell_type": "markdown",
   "metadata": {},
   "source": [
    "<div class=\"alert alert-warning\" role=\"alert\">\n",
    "<b>Travail à faire : </b> On souhaite obtenir une valeur du volume $V_a$ choisies aléatoirement dans l'intervalle $[V_a \\ - \\ 3 \\times u(V_a) \\ ;  \\ V_a \\ + \\ 3 \\times u(V_a)]$. Compléter le code ci-dessous. Executer plusieurs fois le code afin de vérifier que le résultat est bien aléatoire (vous n'obtiendrez pas toujours le même résultat).\n",
    "<br>\n",
    "<br>\n",
    "<details>\n",
    "<summary>Aide </summary>\n",
    "<p>La fonction Alea(L) est défini. Il faut appeler la fonction Alea pour la variable Va.</p>\n",
    "</details>\n",
    "<br>\n",
    "</div>"
   ]
  },
  {
   "cell_type": "code",
   "execution_count": null,
   "metadata": {},
   "outputs": [],
   "source": [
    "\"\"\"\n",
    "Fonction générant la valeur d'une grandeur dans son intervalle de confiance\n",
    "Entrées : le nom de la liste associée à chaque grandeur\n",
    "Résultat : valeur de la grandeur dans l'intervalle\n",
    "\"\"\"\n",
    "import numpy as np\n",
    "def Alea(L):\n",
    "    return np.random.normal(L[0],L[1])\n",
    "\n",
    "print(---A compléter---)"
   ]
  },
  {
   "cell_type": "markdown",
   "metadata": {},
   "source": [
    "<div class=\"alert alert-warning\" role=\"alert\">\n",
    "<b>Travail à faire : </b>  Compléter le code ci-dessous pour qu'il affiche 3 valeurs de $V_a$ tirées au sort dans l'intervalle\n",
    "<br>\n",
    "<br>\n",
    "<details>\n",
    "<summary>Aide </summary>\n",
    "<p>La boucle doit être réalisée 3 fois. i commence à 0</p>\n",
    "</details>\n",
    "<br>\n",
    "</div>"
   ]
  },
  {
   "cell_type": "code",
   "execution_count": null,
   "metadata": {},
   "outputs": [],
   "source": [
    "n=---Acompléter---          # nombre de valeurs de Va \n",
    "AVa=[]                      # création d'une liste AVa vide, AVa pour valeur aléatoire de Va dans l'intervalle\n",
    "for i in range (n):         # Boucle pour compléter la liste\n",
    "    AVa.append(Alea(Va))    # Calcul d'une valeur de Va dans son intervalle et ajout dans la liste Ava\n",
    "                    \n",
    "print('3 valeurs de Va :',AVa)"
   ]
  },
  {
   "cell_type": "markdown",
   "metadata": {},
   "source": [
    "<div class=\"alert alert-warning\" role=\"alert\">\n",
    "<b>Travail à faire : </b>  On souhaite simuler 10 dosages par titrage et donc obtenir 10 valeurs de concentration $c_a$, en utilisant des valeurs de $c_b$, $V_a$ et $V_E$ choisies aléatoirement dans leur intervalle. Compléter le code ci-dessous.\n",
    "<br>\n",
    "<br>\n",
    "<details>\n",
    "<summary>Aide n°1</summary>\n",
    "<p>On rappelle qu'à l'équivalence, on a : ${ c }_{ a }=\\frac { { c }_{ b }\\times { V }_{ E } }{ { V }_{ a } } $  </p>\n",
    "</details>\n",
    "<br>\n",
    "<details>\n",
    "<summary>Aide n°2</summary>\n",
    "<p>Dans le calcul de ca, chaque grandeur doit être tirée au sort.</p>\n",
    "</details>\n",
    "<br>\n",
    "</div>"
   ]
  },
  {
   "cell_type": "code",
   "execution_count": null,
   "metadata": {},
   "outputs": [],
   "source": [
    "n=10                                  # nombre de dosages simulés\n",
    "Aca=[]                                # création d'une liste Aca vide, Aca pour valeur aléatoire de ca dans l'intervalle\n",
    "for i in range (n) :                  # Boucle pour compléter la liste\n",
    "    Aca.append(---A compléter---)     # Calcul d'une valeur de ca et ajout dans la liste Aca\n",
    "print ('les',n,' valeurs de ca sont : ',Aca)"
   ]
  },
  {
   "cell_type": "markdown",
   "metadata": {},
   "source": [
    "<div class=\"alert alert-success\" role=\"alert\">\n",
    "L'incertitude-type $u(c_a)$ associée à la mesure unique de $c_a$ est l'écart-type $s(c_a)$.\n",
    "<br>\n",
    "Exécuter le bloc ci-dessous qui permet de calculer l'incertitude-type $u(c_a)$ pour n simulations distinctes de série de mesures. \n",
    "</div>"
   ]
  },
  {
   "cell_type": "code",
   "execution_count": null,
   "metadata": {},
   "outputs": [],
   "source": [
    "print(\"Simulation de\",n,\"dosages\")\n",
    "print(\"***************************\")\n",
    "\n",
    "moyca=sum(Aca)/n                                      # calcul de la moyenne\n",
    "sca=(1/(n-1)*sum((np.array(Aca)-moyca)**2))**0.5      # calcul de l'écart-type\n",
    "uca=sca                                               # valeur de l'incertitude-type\n",
    "print(\"L'incertitude-type de ca est\",uca,\"mol/L.\")    # affichage de la valeur de l'incertitude-type"
   ]
  },
  {
   "cell_type": "markdown",
   "metadata": {},
   "source": [
    "<div class=\"alert alert-success\" role=\"alert\">\n",
    "Exécuter le bloc ci-dessous qui permet de tracer l'histogramme de la série de mesures (correspondant à la dernière simulation).\n",
    "</div>"
   ]
  },
  {
   "cell_type": "code",
   "execution_count": null,
   "metadata": {},
   "outputs": [],
   "source": [
    "from matplotlib import pyplot as plt\n",
    "plt.hist(Aca, bins = 50, color = 'blue', edgecolor = 'black')     # bins indique le nombre d'intervalles, cad de valeurs différentes prises par Ca\n",
    "plt.xlabel('ca (en mol/L)')\n",
    "plt.ylabel('effectif')\n",
    "plt.title('Histogramme de la série de mesures pour '+str(n)+' dosages')\n",
    "plt.show()"
   ]
  },
  {
   "cell_type": "markdown",
   "metadata": {},
   "source": [
    "<div class=\"alert alert-warning\" role=\"alert\">\n",
    "<b>Travail à faire : </b>  Simuler un nombre n = 1000 dosages <u>dans la cellule de code appropriée et éxecuter de nouveau les codes suivants</u> pour déterminer la valeur de l'incertitude-type des n simulations et l'histogramme.\n",
    "<br>\n",
    "<br>\n",
    "<details>\n",
    "<summary>Aide </summary>\n",
    "<p> Il faut changer la valeur de n dans la cellule du code qui calcule les valeurs de ca. Exécuter ensuite le code pour calculer l'incertitude-type ainsi que celui pour afficher l'histogramme./p>\n",
    "</details>\n",
    "<br>\n",
    "</div>"
   ]
  },
  {
   "cell_type": "markdown",
   "metadata": {},
   "source": [
    "<div class=\"alert alert-warning\" role=\"alert\">\n",
    "<b>Travail à faire : </b>  Simuler un nombre n = 100 000 dosages <u>dans la cellule de code appropriée et éxecuter de nouveau les codes suivants</u> pour déterminer la valeur de l'incertitude-type des n simulations et l'histogramme.\n",
    "<br>\n",
    "<br>\n",
    "<details>\n",
    "<summary>Aide </summary>\n",
    "<p> Il faut changer la valeur de n dans la cellule du code qui calcule les valeurs de ca. Exécuter ensuite le code pour calculer l'incertitude-type ainsi que celui pour afficher l'histogramme./p>\n",
    "</details>\n",
    "<br>\n",
    "</div>"
   ]
  },
  {
   "cell_type": "markdown",
   "metadata": {},
   "source": [
    "<div class=\"alert alert-info\" role=\"alert\">\n",
    "Répondre aux questions 2 à 6 du document papier.<br>\n",
    "<div class=\"alert alert-warning\" role=\"alert\">\n",
    "<p>On réalise le même titrage mais par suivi pH-métrique ou conductimètre.<br><br>\n",
    "<b>Travail à faire : </b> Modifier en conséquent la valeur de l'incertitude-type $u({ V }_{ E }) $ dans la 1ère cellule de code. Exécuter l'ensemble du code présent dans le notebook en allant dans le menu Kernel/Restart & Run All.</p></div>\n",
    "<br>\n",
    "Répondre aux questions 7 à 9 du document papier.<br>\n",
    "</div>"
   ]
  },
  {
   "cell_type": "code",
   "execution_count": null,
   "metadata": {},
   "outputs": [],
   "source": []
  }
 ],
 "metadata": {
  "kernelspec": {
   "display_name": "Python 3",
   "language": "python",
   "name": "python3"
  },
  "language_info": {
   "codemirror_mode": {
    "name": "ipython",
    "version": 3
   },
   "file_extension": ".py",
   "mimetype": "text/x-python",
   "name": "python",
   "nbconvert_exporter": "python",
   "pygments_lexer": "ipython3",
   "version": "3.7.6"
  }
 },
 "nbformat": 4,
 "nbformat_minor": 4
}
